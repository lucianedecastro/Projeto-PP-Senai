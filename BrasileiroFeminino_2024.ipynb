{
  "nbformat": 4,
  "nbformat_minor": 0,
  "metadata": {
    "colab": {
      "provenance": [],
      "include_colab_link": true
    },
    "kernelspec": {
      "name": "python3",
      "display_name": "Python 3"
    },
    "language_info": {
      "name": "python"
    }
  },
  "cells": [
    {
      "cell_type": "markdown",
      "metadata": {
        "id": "view-in-github",
        "colab_type": "text"
      },
      "source": [
        "<a href=\"https://colab.research.google.com/github/lucianedecastro/Projeto-PP-Senai/blob/main/BrasileiroFeminino_2024.ipynb\" target=\"_parent\"><img src=\"https://colab.research.google.com/assets/colab-badge.svg\" alt=\"Open In Colab\"/></a>"
      ]
    },
    {
      "cell_type": "code",
      "execution_count": null,
      "metadata": {
        "id": "m2V2LxMVoL0V"
      },
      "outputs": [],
      "source": []
    },
    {
      "cell_type": "markdown",
      "source": [
        "**Brasileiro Feminino A1 - 2024**\n",
        "\n",
        "---\n",
        "\n",
        "Projeto para o Curso de Programação em Python - 2403 - Senai Ary Torres\n",
        "Simular uma competição de futebol.\n",
        "O presente projeto se apoia no Regulamento do Campeonato Brasileiro Feminino A1 de 2024.\n",
        "**Grupo Único**:\n",
        "Santos, Ferroviária, Palmeiras, Avaí Kindermann, Fluminense, Cruzeiro, América, Grêmio, Real Brasília, Botafogo, Flamengo, Red Bull Bragantino, Atlético/MG, São Paulo, Internacional, Corinthians.\n",
        "- Todos contra todos em 15 rodadas.\n",
        "-Em caso de empate em pontos ganhos entre 2 (dois) ou mais Clubes ao final da 1ª Fase do BRASILEIRÃO FEMININO A1, o desempate será definido observando os critérios abaixo, aplicados à referida fase:\n",
        "1º. Maior número de vitórias;\n",
        "2º. Maior saldo de gols;\n",
        "3º. Sorteio.\n",
        "\n",
        "8 equipes se classificam para as **Quartas-de-final**.\n",
        "Em caso de empate em pontos ganhos entre os Clubes ao final da 2ª, 3ª e 4ª Fases do BRASILEIRÃO FEMININO A1, em cada grupo, o desempate será definido observando os critérios abaixo:\n",
        "1º. Maior número de vitórias;\n",
        "2º. Maior saldo de gols.\n",
        "– Os confrontos da **2ª Fase (Quartas-de-Final)** serão definidos obedecendo aos seguintes critérios:\n",
        "Grupo B - 1º Colocado Geral 8º Colocado Geral\n",
        "Grupo C - 4º Colocado Geral 5º Colocado Geral\n",
        "Grupo D - 2º Colocado Geral 7º Colocado Geral\n",
        "Grupo E - 3º Colocado Geral 6º Colocado Geral\n",
        "\n",
        "**Semifinal**\n",
        "Grupo F - Vencedor do Grupo B x Vencedor do Grupo E\n",
        "Grupo G- Vencedor do Grupo C x Vencedor do Grupo D\n",
        "\n",
        "**Final**\n",
        "Grupo H - Vencedor do Grupo F X Vencedor do Grupo G\n",
        "\n",
        "---\n",
        "\n"
      ],
      "metadata": {
        "id": "JQAzQYYwWeWF"
      }
    },
    {
      "cell_type": "code",
      "source": [
        "import random\n",
        "#importa a biblioteca adequada para o tipo de solução que queremos dar para um problema ou situação"
      ],
      "metadata": {
        "id": "MplB-nJVDjL0"
      },
      "execution_count": null,
      "outputs": []
    },
    {
      "cell_type": "code",
      "source": [
        "class Time:\n",
        "  #class Time:Representa um time de futebol com seus atributos.\n",
        "    def __init__(self, nome):#Inicializa um novo time com o nome dado. Args:nome: O nome do time (string).\n",
        "        self.nome = nome\n",
        "        self.pontos = 0\n",
        "        self.vitorias = 0\n",
        "        self.saldo_gols = 0\n",
        "        self.gols_pro = 0\n",
        "        self.cartoes_vermelhos = 0\n",
        "        self.cartoes_amarelos = 0\n",
        "\n",
        "    def __str__(self):#Retorna uma representação em string do objeto Time.\n",
        "        return f'{self.nome}'#Returns. Uma string contendo o nome do time.\n",
        "\n"
      ],
      "metadata": {
        "id": "DYBaHK_xDljD"
      },
      "execution_count": null,
      "outputs": []
    },
    {
      "cell_type": "code",
      "source": [
        "times = [ #Criando uma lista dos times participantes do Brasileiro Feminino de 2024. Sabemos que é uma lista porque as str estão dentro de colchetes.\n",
        "    'Santos', 'Ferroviária', 'Palmeiras', 'Avaí Kindermann', 'Fluminense',\n",
        "    'Cruzeiro', 'América', 'Grêmio', 'Real Brasília', 'Botafogo', 'Flamengo',\n",
        "    'Red Bull Bragantino', 'Atlético/MG', 'São Paulo', 'Internacional', 'Corinthians'\n",
        "]"
      ],
      "metadata": {
        "id": "b7gpYStoDpGA"
      },
      "execution_count": null,
      "outputs": []
    },
    {
      "cell_type": "code",
      "source": [
        "class Tabela: #Define uma classe chamada \"Tabela\", que servirá como modelo para criar um objeto que representa a tabela do campeonato.\n",
        "    def __init__(self): #Define o construtor da classe Tabela. Este método é executado automaticamente quando um novo objeto da classe Tabela é criado.\n",
        "        self.times = [Time(nome) for nome in times] #Cria um atributo chamado times dentro do objeto Tabela. Este atributo será uma lista e irá armazenar os objetos\n",
        "        #Time que representam os times do campeonato. [Time(nome) for nome in times]: Esta é uma compreensão de lista (ou list comprehension), uma forma compacta de criar listas em Python.\n",
        "\n",
        "    def adicionar_resultado(self, time1, time2, gols1, gols2):\n",
        "        if gols1 > gols2:\n",
        "            self.times[times.index(time1)].pontos += 3\n",
        "            self.times[times.index(time1)].vitorias += 1\n",
        "        elif gols2 > gols1:\n",
        "            self.times[times.index(time2)].pontos += 3\n",
        "            self.times[times.index(time2)].vitorias += 1\n",
        "        else:\n",
        "            self.times[times.index(time1)].pontos += 1\n",
        "            self.times[times.index(time2)].pontos += 1\n",
        "        self.times[times.index(time1)].saldo_gols += (gols1 - gols2)\n",
        "        self.times[times.index(time2)].saldo_gols += (gols2 - gols1)\n",
        "        self.times[times.index(time1)].gols_pro += gols1\n",
        "        self.times[times.index(time2)].gols_pro += gols2\n",
        "\n",
        "    def ordenar_tabela(self):\n",
        "        self.times.sort(key=lambda time: (-time.pontos, -time.vitorias, -time.saldo_gols, random.random()))\n",
        "\n",
        "    def imprimir_tabela(self):\n",
        "        print('----------------------------------------------------------------------')\n",
        "        print('Classificação do Brasileirão Feminino A1 - Primeira Fase')\n",
        "        print('----------------------------------------------------------------------')\n",
        "        for i, time in enumerate(self.times):\n",
        "            print(f'{i+1}. {time}')\n",
        "            print('----------------------------------------------------------------------')\n",
        "\n",
        "    def definir_grupos_quartas(self, classificados):\n",
        "        random.shuffle(classificados)\n",
        "        grupos_quartas = {\n",
        "            'B': [classificados[0], classificados[7]],\n",
        "            'C': [classificados[3], classificados[4]],\n",
        "            'D': [classificados[1], classificados[6]],\n",
        "            'E': [classificados[2], classificados[5]]\n",
        "        }\n",
        "        print('Grupos das Quartas-de-Final:')\n",
        "        for grupo, times in grupos_quartas.items():\n",
        "            print(f'Grupo {grupo}: {str(times[0])}, {str(times[1])}')\n",
        "        return grupos_quartas\n",
        "\n",
        "    def simular_jogos_quartas(self, grupos_quartas):\n",
        "        resultados_quartas = {}\n",
        "        for grupo, times in grupos_quartas.items():\n",
        "            # Simula o jogo de ida\n",
        "            gols1_ida = random.randint(0, 4)\n",
        "            gols2_ida = random.randint(0, 4)\n",
        "\n",
        "            # Simula o jogo de volta\n",
        "            gols1_volta = random.randint(0, 4)\n",
        "            gols2_volta = random.randint(0, 4)\n",
        "\n",
        "            # Calcula o saldo de gols\n",
        "            saldo_gols1 = gols1_ida + gols1_volta - gols2_ida - gols2_volta\n",
        "            saldo_gols2 = gols2_ida + gols2_volta - gols1_ida - gols1_volta\n",
        "\n",
        "            # Define o vencedor com base no saldo de gols\n",
        "            if saldo_gols1 > saldo_gols2:\n",
        "                vencedor = times[0]\n",
        "            elif saldo_gols2 > saldo_gols1:\n",
        "                vencedor = times[1]\n",
        "            else:\n",
        "                # Em caso de empate no saldo de gols, define o vencedor nos pênaltis\n",
        "                print(f'Empate no saldo de gols entre {times[0]} e {times[1]} no Grupo {grupo}. Definindo o vencedor nos pênaltis...')\n",
        "                vencedor = random.choice(times)\n",
        "                print(f'Vencedor nos pênaltis: {vencedor}')\n",
        "\n",
        "            # Armazena o resultado, incluindo os gols\n",
        "            resultados_quartas[grupo] = (vencedor, None, gols1_ida + gols1_volta, gols2_ida + gols2_volta)\n",
        "\n",
        "        print('Resultados das Quartas-de-Final:')\n",
        "        for grupo, (time1, _, gols1, gols2) in resultados_quartas.items():\n",
        "            if time1 is not None:\n",
        "                print(f'Grupo {grupo}: O vencedor foi {str(time1)}')\n",
        "            else:\n",
        "                print(f'Grupo {grupo}: Sem vencedor definido')\n",
        "\n",
        "        return resultados_quartas\n",
        "\n",
        "    def definir_grupos_semifinal(self, resultados_quartas):\n",
        "        vencedores_quartas = {\n",
        "            'F': resultados_quartas['B'][0] if resultados_quartas['B'][1] is None else resultados_quartas['B'][1],\n",
        "            'G': resultados_quartas['C'][0] if resultados_quartas['C'][1] is None else resultados_quartas['C'][1],\n",
        "            'E': resultados_quartas['E'][0] if resultados_quartas['E'][1] is None else resultados_quartas['E'][1],\n",
        "            'D': resultados_quartas['D'][0] if resultados_quartas['D'][1] is None else resultados_quartas['D'][1]\n",
        "        }\n",
        "        grupos_semifinal = {\n",
        "            'F': [vencedores_quartas['F'], vencedores_quartas['E']],\n",
        "            'G': [vencedores_quartas['G'], vencedores_quartas['D']]\n",
        "        }\n",
        "        for grupo, times in grupos_semifinal.items():\n",
        "            print(f'Grupo {grupo}: {str(times[0])}, {str(times[1])}')\n",
        "        return grupos_semifinal\n",
        "\n",
        "    def simular_jogos_semifinal(self, grupos_semifinal):\n",
        "        resultados_semifinal = {}\n",
        "        for grupo, times in grupos_semifinal.items():\n",
        "            # Simula o jogo de ida\n",
        "            gols1_ida = random.randint(0, 4)\n",
        "            gols2_ida = random.randint(0, 4)\n",
        "\n",
        "            # Simula o jogo de volta\n",
        "            gols1_volta = random.randint(0, 4)\n",
        "            gols2_volta = random.randint(0, 4)\n",
        "\n",
        "            # Calcula o saldo de gols\n",
        "            saldo_gols1 = gols1_ida + gols1_volta - gols2_ida - gols2_volta\n",
        "            saldo_gols2 = gols2_ida + gols2_volta - gols1_ida - gols1_volta\n",
        "\n",
        "            # Define o vencedor com base no saldo de gols\n",
        "            if saldo_gols1 > saldo_gols2:\n",
        "                vencedor = times[0]\n",
        "            elif saldo_gols2 > saldo_gols1:\n",
        "                vencedor = times[1]\n",
        "            else:\n",
        "                # Em caso de empate no saldo de gols, define o vencedor nos pênaltis\n",
        "                print(f'Empate no saldo de gols entre {times[0]} e {times[1]} no Grupo {grupo}. Definindo o vencedor nos pênaltis...')\n",
        "                vencedor = random.choice(times)\n",
        "                print(f'Vencedor nos pênaltis: {vencedor}')\n",
        "\n",
        "            resultados_semifinal[grupo] = (vencedor, None, gols1_ida + gols1_volta, gols2_ida + gols2_volta)\n",
        "\n",
        "        print('Resultados da Semifinal:')\n",
        "        for grupo, (time1, _, gols1, gols2) in resultados_semifinal.items():\n",
        "            if time1 is not None:\n",
        "                print(f'Grupo {grupo}: O vencedor foi {str(time1)}')\n",
        "            else:\n",
        "                print(f'Grupo {grupo}: Sem vencedor definido')\n",
        "\n",
        "        return resultados_semifinal\n",
        "\n",
        "\n",
        "\n",
        "    def definir_final(self, resultados_semifinal):\n",
        "        vencedores_semifinal = {\n",
        "            'F': resultados_semifinal['F'][0] if resultados_semifinal['F'][1] is None else resultados_semifinal['F'][1],\n",
        "            'G': resultados_semifinal['G'][0] if resultados_semifinal['G'][1] is None else resultados_semifinal['G'][1]\n",
        "        }\n",
        "        final = [vencedores_semifinal['F'], vencedores_semifinal['G']]\n",
        "        print(f'Final: {final[0]}, {final[1]}')\n",
        "        return final\n",
        "\n",
        "    def simular_final(self, final):\n",
        "        # Simula o jogo único da final\n",
        "        gols1 = random.randint(0, 4)\n",
        "        gols2 = random.randint(0, 4)\n",
        "\n",
        "        # Define o vencedor com base nos gols\n",
        "        if gols1 > gols2:\n",
        "            vencedor = final[0]\n",
        "        elif gols2 > gols1:\n",
        "            vencedor = final[1]\n",
        "        else:\n",
        "            # Em caso de empate, define o vencedor nos pênaltis\n",
        "            print(f'Empate na final entre {final[0]} e {final[1]}. Definindo o vencedor nos pênaltis...')\n",
        "            vencedor = random.choice(final)\n",
        "            print(f'Vencedor nos pênaltis: {vencedor}')\n",
        "\n",
        "        # Retorna o resultado, incluindo os gols\n",
        "        return (vencedor, None, gols1, gols2)\n",
        "\n",
        "\n",
        "    def imprimir_resultado_final(self, resultado_final):\n",
        "        time1, time2, gols1, gols2 = resultado_final\n",
        "        print('----------------------------------------------------------------------')\n",
        "        print('Resultado da Final do Brasileirão Feminino A1')\n",
        "        print('----------------------------------------------------------------------')\n",
        "        if time2 is None:\n",
        "            print(f'{time1} é o CAMPEÃO!')\n",
        "        else:\n",
        "            print(f'{time1} {gols1} x {gols2} {time2}')\n",
        "            if gols1 > gols2:\n",
        "                print(f'{time1} é o CAMPEÃO!')\n",
        "            else:\n",
        "                print(f'{time2} é o CAMPEÃO!')\n",
        "        print('----------------------------------------------------------------------')\n",
        "\n",
        "    def simular_jogos_primeira_fase(self):\n",
        "        for time1 in self.times:\n",
        "            for time2 in self.times:\n",
        "                if time1 != time2:\n",
        "                    gols1 = random.randint(0, 4)\n",
        "                    gols2 = random.randint(0, 4)\n",
        "                    self.adicionar_resultado(time1.nome, time2.nome, gols1, gols2)\n",
        "\n",
        "    def get_classificados(self):\n",
        "        return self.times[:8]\n",
        "\n"
      ],
      "metadata": {
        "id": "961M_Lw_DqXl"
      },
      "execution_count": null,
      "outputs": []
    },
    {
      "cell_type": "code",
      "source": [
        "tabela = Tabela()\n",
        "tabela.simular_jogos_primeira_fase()\n",
        "tabela.ordenar_tabela()\n",
        "tabela.imprimir_tabela()"
      ],
      "metadata": {
        "colab": {
          "base_uri": "https://localhost:8080/"
        },
        "id": "lb74zVC6D2Fu",
        "outputId": "dc2e0ade-20d9-4564-b3ca-68e514dda2b8"
      },
      "execution_count": null,
      "outputs": [
        {
          "output_type": "stream",
          "name": "stdout",
          "text": [
            "----------------------------------------------------------------------\n",
            "Classificação do Brasileirão Feminino A1 - Primeira Fase\n",
            "----------------------------------------------------------------------\n",
            "1. Atlético/MG\n",
            "----------------------------------------------------------------------\n",
            "2. Palmeiras\n",
            "----------------------------------------------------------------------\n",
            "3. Real Brasília\n",
            "----------------------------------------------------------------------\n",
            "4. Fluminense\n",
            "----------------------------------------------------------------------\n",
            "5. América\n",
            "----------------------------------------------------------------------\n",
            "6. Botafogo\n",
            "----------------------------------------------------------------------\n",
            "7. Avaí Kindermann\n",
            "----------------------------------------------------------------------\n",
            "8. Corinthians\n",
            "----------------------------------------------------------------------\n",
            "9. Internacional\n",
            "----------------------------------------------------------------------\n",
            "10. Santos\n",
            "----------------------------------------------------------------------\n",
            "11. Grêmio\n",
            "----------------------------------------------------------------------\n",
            "12. Cruzeiro\n",
            "----------------------------------------------------------------------\n",
            "13. Ferroviária\n",
            "----------------------------------------------------------------------\n",
            "14. São Paulo\n",
            "----------------------------------------------------------------------\n",
            "15. Flamengo\n",
            "----------------------------------------------------------------------\n",
            "16. Red Bull Bragantino\n",
            "----------------------------------------------------------------------\n"
          ]
        }
      ]
    },
    {
      "cell_type": "code",
      "source": [
        "classificados = tabela.get_classificados()\n",
        "grupos_quartas = tabela.definir_grupos_quartas(classificados)"
      ],
      "metadata": {
        "colab": {
          "base_uri": "https://localhost:8080/"
        },
        "id": "Vn6HqF9yD5x-",
        "outputId": "38343175-901d-4f6c-ff61-71db93bf9b7e"
      },
      "execution_count": null,
      "outputs": [
        {
          "output_type": "stream",
          "name": "stdout",
          "text": [
            "Grupos das Quartas-de-Final:\n",
            "Grupo B: Palmeiras, América\n",
            "Grupo C: Atlético/MG, Real Brasília\n",
            "Grupo D: Avaí Kindermann, Botafogo\n",
            "Grupo E: Fluminense, Corinthians\n"
          ]
        }
      ]
    },
    {
      "cell_type": "code",
      "source": [
        "resultados_quartas = tabela.simular_jogos_quartas(grupos_quartas)"
      ],
      "metadata": {
        "colab": {
          "base_uri": "https://localhost:8080/"
        },
        "id": "hIAx6Z2hD80F",
        "outputId": "3a05850d-1d17-471c-ebb4-314d6c148e87"
      },
      "execution_count": null,
      "outputs": [
        {
          "output_type": "stream",
          "name": "stdout",
          "text": [
            "Resultados das Quartas-de-Final:\n",
            "Grupo B: O vencedor foi América\n",
            "Grupo C: O vencedor foi Real Brasília\n",
            "Grupo D: O vencedor foi Botafogo\n",
            "Grupo E: O vencedor foi Corinthians\n"
          ]
        }
      ]
    },
    {
      "cell_type": "code",
      "source": [
        "grupos_semifinal = tabela.definir_grupos_semifinal(resultados_quartas)"
      ],
      "metadata": {
        "colab": {
          "base_uri": "https://localhost:8080/"
        },
        "id": "OrxYdk3XFU6T",
        "outputId": "30e10209-9ef5-45a7-c1d5-88b91abde7e0"
      },
      "execution_count": null,
      "outputs": [
        {
          "output_type": "stream",
          "name": "stdout",
          "text": [
            "Grupo F: América, Corinthians\n",
            "Grupo G: Real Brasília, Botafogo\n"
          ]
        }
      ]
    },
    {
      "cell_type": "code",
      "source": [
        "resultados_semifinal = tabela.simular_jogos_semifinal(grupos_semifinal)"
      ],
      "metadata": {
        "colab": {
          "base_uri": "https://localhost:8080/"
        },
        "id": "T4wTgzcSFYQO",
        "outputId": "d829b7d3-7ac2-4602-ddf4-05451d73b87d"
      },
      "execution_count": null,
      "outputs": [
        {
          "output_type": "stream",
          "name": "stdout",
          "text": [
            "Resultados da Semifinal:\n",
            "Grupo F: O vencedor foi América\n",
            "Grupo G: O vencedor foi Real Brasília\n"
          ]
        }
      ]
    },
    {
      "cell_type": "code",
      "source": [
        "final = tabela.definir_final(resultados_semifinal)"
      ],
      "metadata": {
        "colab": {
          "base_uri": "https://localhost:8080/"
        },
        "id": "Zg8ybmoFFe0z",
        "outputId": "606bc20a-1b10-4c1d-eef3-405629ce5496"
      },
      "execution_count": null,
      "outputs": [
        {
          "output_type": "stream",
          "name": "stdout",
          "text": [
            "Final: América, Real Brasília\n"
          ]
        }
      ]
    },
    {
      "cell_type": "code",
      "source": [
        "resultado_final = tabela.simular_final(final)"
      ],
      "metadata": {
        "id": "mTOpaYbaFiJT"
      },
      "execution_count": null,
      "outputs": []
    },
    {
      "cell_type": "code",
      "source": [
        "tabela.imprimir_resultado_final(resultado_final)"
      ],
      "metadata": {
        "colab": {
          "base_uri": "https://localhost:8080/"
        },
        "id": "2WRGz_E7Fnuw",
        "outputId": "2e675665-af5c-4d36-865f-5b8cbb54ad6c"
      },
      "execution_count": null,
      "outputs": [
        {
          "output_type": "stream",
          "name": "stdout",
          "text": [
            "----------------------------------------------------------------------\n",
            "Resultado da Final do Brasileirão Feminino A1\n",
            "----------------------------------------------------------------------\n",
            "Real Brasília é o CAMPEÃO!\n",
            "----------------------------------------------------------------------\n"
          ]
        }
      ]
    }
  ]
}